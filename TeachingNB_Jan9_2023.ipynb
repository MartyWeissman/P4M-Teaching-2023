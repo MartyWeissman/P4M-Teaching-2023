{
  "nbformat": 4,
  "nbformat_minor": 0,
  "metadata": {
    "colab": {
      "provenance": [],
      "authorship_tag": "ABX9TyOTrZPS2Pu6qn69sT9qJp+a",
      "include_colab_link": true
    },
    "kernelspec": {
      "name": "python3",
      "display_name": "Python 3"
    },
    "language_info": {
      "name": "python"
    }
  },
  "cells": [
    {
      "cell_type": "markdown",
      "metadata": {
        "id": "view-in-github",
        "colab_type": "text"
      },
      "source": [
        "<a href=\"https://colab.research.google.com/github/MartyWeissman/P4M-Teaching-2023/blob/main/TeachingNB_Jan9_2023.ipynb\" target=\"_parent\"><img src=\"https://colab.research.google.com/assets/colab-badge.svg\" alt=\"Open In Colab\"/></a>"
      ]
    },
    {
      "cell_type": "markdown",
      "source": [
        "# Teaching notebook:  January 9, 2023\n",
        "\n",
        "The harmonic series, the natural logarithm, and the [Euler-Mascheroni constant](https://en.wikipedia.org/wiki/Euler%27s_constant) $\\gamma$."
      ],
      "metadata": {
        "id": "9kXtSuWM8ijJ"
      }
    },
    {
      "cell_type": "markdown",
      "source": [
        "# The harmonic series"
      ],
      "metadata": {
        "id": "dhwKWeA28uY0"
      }
    },
    {
      "cell_type": "code",
      "execution_count": 24,
      "metadata": {
        "colab": {
          "base_uri": "https://localhost:8080/"
        },
        "id": "QKLEiFiR8h1R",
        "outputId": "95e6bf34-8597-4fda-ba90-eb5d12f9855b"
      },
      "outputs": [
        {
          "output_type": "execute_result",
          "data": {
            "text/plain": [
              "0.3333333333333333"
            ]
          },
          "metadata": {},
          "execution_count": 24
        }
      ],
      "source": [
        "1/3"
      ]
    },
    {
      "cell_type": "markdown",
      "source": [
        "# The natural logarithm"
      ],
      "metadata": {
        "id": "cTpgsHMf8w6x"
      }
    },
    {
      "cell_type": "code",
      "source": [
        "import numpy as np\n",
        "np.log(2)"
      ],
      "metadata": {
        "colab": {
          "base_uri": "https://localhost:8080/"
        },
        "id": "m-xwCXGh8y5w",
        "outputId": "0330c6fe-3568-422d-e55b-c2ae9eee1e43"
      },
      "execution_count": 25,
      "outputs": [
        {
          "output_type": "execute_result",
          "data": {
            "text/plain": [
              "0.6931471805599453"
            ]
          },
          "metadata": {},
          "execution_count": 25
        }
      ]
    },
    {
      "cell_type": "markdown",
      "source": [
        "# Approximating $\\gamma$"
      ],
      "metadata": {
        "id": "IDuo0nyO8zlG"
      }
    },
    {
      "cell_type": "markdown",
      "source": [
        "The Euler-Masceroni constant is defined by\n",
        "$$\\gamma = \\lim_{n \\rightarrow \\infty} H(n) - \\log(n).$$"
      ],
      "metadata": {
        "id": "L11A7kFv85VA"
      }
    },
    {
      "cell_type": "code",
      "source": [],
      "metadata": {
        "id": "7HqcDmfm83zJ"
      },
      "execution_count": null,
      "outputs": []
    }
  ]
}