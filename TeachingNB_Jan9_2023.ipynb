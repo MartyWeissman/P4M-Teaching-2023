{
  "nbformat": 4,
  "nbformat_minor": 0,
  "metadata": {
    "colab": {
      "provenance": [],
      "authorship_tag": "ABX9TyOyMJT8/+uXwHw+Fx2FmHE6",
      "include_colab_link": true
    },
    "kernelspec": {
      "name": "python3",
      "display_name": "Python 3"
    },
    "language_info": {
      "name": "python"
    }
  },
  "cells": [
    {
      "cell_type": "markdown",
      "metadata": {
        "id": "view-in-github",
        "colab_type": "text"
      },
      "source": [
        "<a href=\"https://colab.research.google.com/github/MartyWeissman/P4M-Teaching-2023/blob/main/TeachingNB_Jan9_2023.ipynb\" target=\"_parent\"><img src=\"https://colab.research.google.com/assets/colab-badge.svg\" alt=\"Open In Colab\"/></a>"
      ]
    },
    {
      "cell_type": "markdown",
      "source": [
        "# Teaching notebook:  January 9, 2023\n",
        "\n",
        "The harmonic series, the natural logarithm, and the [Euler-Mascheroni constant](https://en.wikipedia.org/wiki/Euler%27s_constant) $\\gamma$."
      ],
      "metadata": {
        "id": "9kXtSuWM8ijJ"
      }
    },
    {
      "cell_type": "markdown",
      "source": [
        "# The harmonic series"
      ],
      "metadata": {
        "id": "dhwKWeA28uY0"
      }
    },
    {
      "cell_type": "code",
      "execution_count": 26,
      "metadata": {
        "colab": {
          "base_uri": "https://localhost:8080/"
        },
        "id": "QKLEiFiR8h1R",
        "outputId": "f5c0ad01-134e-43fb-b558-0f9109217e5d"
      },
      "outputs": [
        {
          "output_type": "execute_result",
          "data": {
            "text/plain": [
              "2.4499999999999997"
            ]
          },
          "metadata": {},
          "execution_count": 26
        }
      ],
      "source": [
        "1 + 1/2 + 1/3 + 1/4 + 1/5 + 1/6"
      ]
    },
    {
      "cell_type": "code",
      "source": [
        "1 + 0.5 + 0.5 + 0.25 + 0.2"
      ],
      "metadata": {
        "colab": {
          "base_uri": "https://localhost:8080/"
        },
        "id": "wozgV9sGgFQ9",
        "outputId": "8d109029-5ea5-4575-a2b3-8f14cffb3f5c"
      },
      "execution_count": 28,
      "outputs": [
        {
          "output_type": "execute_result",
          "data": {
            "text/plain": [
              "2.45"
            ]
          },
          "metadata": {},
          "execution_count": 28
        }
      ]
    },
    {
      "cell_type": "code",
      "source": [
        "H = 0\n",
        "for n in range(1,10000): # 1,2,3,...,97,98,99.  Stops before 100!\n",
        "  H = H + 1/n # H is replaced by the value H + 1/n.\n",
        "print(H)"
      ],
      "metadata": {
        "colab": {
          "base_uri": "https://localhost:8080/"
        },
        "id": "Ib7-ciGXgZ97",
        "outputId": "2296fa57-048a-4dec-f922-696ad1cef02b"
      },
      "execution_count": 32,
      "outputs": [
        {
          "output_type": "stream",
          "name": "stdout",
          "text": [
            "9.787506036044348\n"
          ]
        }
      ]
    },
    {
      "cell_type": "markdown",
      "source": [
        "The harmonic series diverges!  The sums approach infinity as you add more and more terms.  They \"increase without bound\".\n",
        "$$\\lim_{N \\rightarrow \\infty} \\sum_{n=1}^N \\frac{1}{n} = \\infty.$$"
      ],
      "metadata": {
        "id": "3-UH404Gg6jd"
      }
    },
    {
      "cell_type": "markdown",
      "source": [
        "# The natural logarithm"
      ],
      "metadata": {
        "id": "cTpgsHMf8w6x"
      }
    },
    {
      "cell_type": "code",
      "source": [
        "import numpy as np\n",
        "np.log(2) # logarithm base e."
      ],
      "metadata": {
        "colab": {
          "base_uri": "https://localhost:8080/"
        },
        "id": "m-xwCXGh8y5w",
        "outputId": "fc9ef41d-27ed-49c1-d2a0-99bc27b97a80"
      },
      "execution_count": 33,
      "outputs": [
        {
          "output_type": "execute_result",
          "data": {
            "text/plain": [
              "0.6931471805599453"
            ]
          },
          "metadata": {},
          "execution_count": 33
        }
      ]
    },
    {
      "cell_type": "code",
      "source": [
        "%timeit np.log(1000)"
      ],
      "metadata": {
        "colab": {
          "base_uri": "https://localhost:8080/"
        },
        "id": "giC6NVTjhUD7",
        "outputId": "cbb5af23-fdb8-45bf-fcb9-0a52ec87be03"
      },
      "execution_count": 34,
      "outputs": [
        {
          "output_type": "stream",
          "name": "stdout",
          "text": [
            "1.16 µs ± 20.7 ns per loop (mean ± std. dev. of 7 runs, 1000000 loops each)\n"
          ]
        }
      ]
    },
    {
      "cell_type": "code",
      "source": [
        "H"
      ],
      "metadata": {
        "colab": {
          "base_uri": "https://localhost:8080/"
        },
        "id": "Sz-40HS3hs5S",
        "outputId": "147b7837-e065-4972-dd50-d37988197218"
      },
      "execution_count": 35,
      "outputs": [
        {
          "output_type": "execute_result",
          "data": {
            "text/plain": [
              "9.787506036044348"
            ]
          },
          "metadata": {},
          "execution_count": 35
        }
      ]
    },
    {
      "cell_type": "code",
      "source": [
        "np.log(10000)"
      ],
      "metadata": {
        "colab": {
          "base_uri": "https://localhost:8080/"
        },
        "id": "kLQrsvNKhw56",
        "outputId": "11f3f524-4ec0-4130-bcb8-14fa10ecdb52"
      },
      "execution_count": 37,
      "outputs": [
        {
          "output_type": "execute_result",
          "data": {
            "text/plain": [
              "9.210340371976184"
            ]
          },
          "metadata": {},
          "execution_count": 37
        }
      ]
    },
    {
      "cell_type": "code",
      "source": [
        "H = 0\n",
        "for n in range(1,10000):\n",
        "  H = H + 1/n # The harmonic series up to n.\n",
        "  L = np.log(n)\n",
        "print(H - L)"
      ],
      "metadata": {
        "colab": {
          "base_uri": "https://localhost:8080/"
        },
        "id": "zZplK6aZh51X",
        "outputId": "c750d9b8-c5af-4a8e-b4a8-d5cb4f6f1853"
      },
      "execution_count": 40,
      "outputs": [
        {
          "output_type": "stream",
          "name": "stdout",
          "text": [
            "0.577265669068499\n"
          ]
        }
      ]
    },
    {
      "cell_type": "markdown",
      "source": [
        "# Approximating $\\gamma$"
      ],
      "metadata": {
        "id": "IDuo0nyO8zlG"
      }
    },
    {
      "cell_type": "markdown",
      "source": [
        "The Euler-Masceroni constant is defined by\n",
        "$$\\gamma = \\lim_{n \\rightarrow \\infty} H(n) - \\log(n).$$"
      ],
      "metadata": {
        "id": "L11A7kFv85VA"
      }
    },
    {
      "cell_type": "code",
      "source": [],
      "metadata": {
        "id": "7HqcDmfm83zJ"
      },
      "execution_count": null,
      "outputs": []
    }
  ]
}