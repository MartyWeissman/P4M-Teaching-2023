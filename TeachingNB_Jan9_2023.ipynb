{
  "nbformat": 4,
  "nbformat_minor": 0,
  "metadata": {
    "colab": {
      "provenance": [],
      "authorship_tag": "ABX9TyOmS1VpKWzTi9TMXZub+K8B",
      "include_colab_link": true
    },
    "kernelspec": {
      "name": "python3",
      "display_name": "Python 3"
    },
    "language_info": {
      "name": "python"
    }
  },
  "cells": [
    {
      "cell_type": "markdown",
      "metadata": {
        "id": "view-in-github",
        "colab_type": "text"
      },
      "source": [
        "<a href=\"https://colab.research.google.com/github/MartyWeissman/P4M-Teaching-2023/blob/main/TeachingNB_Jan9_2023.ipynb\" target=\"_parent\"><img src=\"https://colab.research.google.com/assets/colab-badge.svg\" alt=\"Open In Colab\"/></a>"
      ]
    },
    {
      "cell_type": "markdown",
      "source": [
        "# Teaching notebook:  January 9, 2023\n",
        "\n",
        "The harmonic series, the natural logarithm, and the [Euler-Mascheroni constant](https://en.wikipedia.org/wiki/Euler%27s_constant) $\\gamma$."
      ],
      "metadata": {
        "id": "9kXtSuWM8ijJ"
      }
    },
    {
      "cell_type": "markdown",
      "source": [
        "# The harmonic series"
      ],
      "metadata": {
        "id": "dhwKWeA28uY0"
      }
    },
    {
      "cell_type": "code",
      "execution_count": null,
      "metadata": {
        "id": "QKLEiFiR8h1R"
      },
      "outputs": [],
      "source": []
    },
    {
      "cell_type": "markdown",
      "source": [
        "# The natural logarithm"
      ],
      "metadata": {
        "id": "cTpgsHMf8w6x"
      }
    },
    {
      "cell_type": "code",
      "source": [
        "import numpy as np"
      ],
      "metadata": {
        "id": "m-xwCXGh8y5w"
      },
      "execution_count": 1,
      "outputs": []
    },
    {
      "cell_type": "code",
      "source": [
        "np.log(2)"
      ],
      "metadata": {
        "colab": {
          "base_uri": "https://localhost:8080/"
        },
        "id": "FNw2pI-Q9NWi",
        "outputId": "e0e1d144-e210-44dd-875e-2d84285342c6"
      },
      "execution_count": 2,
      "outputs": [
        {
          "output_type": "execute_result",
          "data": {
            "text/plain": [
              "0.6931471805599453"
            ]
          },
          "metadata": {},
          "execution_count": 2
        }
      ]
    },
    {
      "cell_type": "markdown",
      "source": [
        "# Approximating $\\gamma$"
      ],
      "metadata": {
        "id": "IDuo0nyO8zlG"
      }
    },
    {
      "cell_type": "markdown",
      "source": [
        "The Euler-Masceroni constant is defined by\n",
        "$$\\gamma = \\lim_{n \\rightarrow \\infty} H(n) - \\log(n).$$"
      ],
      "metadata": {
        "id": "L11A7kFv85VA"
      }
    },
    {
      "cell_type": "code",
      "source": [],
      "metadata": {
        "id": "7HqcDmfm83zJ"
      },
      "execution_count": null,
      "outputs": []
    }
  ]
}