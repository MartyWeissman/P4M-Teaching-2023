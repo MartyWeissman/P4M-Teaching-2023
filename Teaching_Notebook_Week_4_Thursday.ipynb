{
  "nbformat": 4,
  "nbformat_minor": 0,
  "metadata": {
    "colab": {
      "provenance": [],
      "authorship_tag": "ABX9TyNAsoartCULPkRXiRD98OOq",
      "include_colab_link": true
    },
    "kernelspec": {
      "name": "python3",
      "display_name": "Python 3"
    },
    "language_info": {
      "name": "python"
    }
  },
  "cells": [
    {
      "cell_type": "markdown",
      "metadata": {
        "id": "view-in-github",
        "colab_type": "text"
      },
      "source": [
        "<a href=\"https://colab.research.google.com/github/MartyWeissman/P4M-Teaching-2023/blob/main/Teaching_Notebook_Week_4_Thursday.ipynb\" target=\"_parent\"><img src=\"https://colab.research.google.com/assets/colab-badge.svg\" alt=\"Open In Colab\"/></a>"
      ]
    },
    {
      "cell_type": "markdown",
      "source": [
        "# Teaching Notebook:  Zoom Week 4, Thursday\n",
        "\n",
        "In this notebook, I will demonstrate some while loops, and other tips and techniques."
      ],
      "metadata": {
        "id": "1lhyl7sDgKBO"
      }
    },
    {
      "cell_type": "markdown",
      "source": [
        "A while loop for analyzing growth of harmonic series.  How many terms do we have to add up in the series\n",
        "$$\\frac{1}{1} + \\frac{1}{2} + \\frac{1}{3} + \\cdots$$\n",
        "before the result is bigger than 10?"
      ],
      "metadata": {
        "id": "BclDBBIiipwh"
      }
    },
    {
      "cell_type": "markdown",
      "source": [
        "Before:  10.000043008275778"
      ],
      "metadata": {
        "id": "xlVXRQrXtU1b"
      }
    },
    {
      "cell_type": "code",
      "source": [
        "from mpmath import mp\n",
        "mp.dps = 100\n",
        "# While loop?\n",
        "S = mp.mpf(0) # My running total/sum.\n",
        "n = mp.mpf(0) # The term I'm currently on.\n",
        "while S < 10:\n",
        "  n = n + 1\n",
        "  S = S + (1/n) \n",
        "print(n,S)\n"
      ],
      "metadata": {
        "colab": {
          "base_uri": "https://localhost:8080/"
        },
        "id": "2hyyDXlghshb",
        "outputId": "b2ab0cce-3167-4a1b-b454-4508d09f578a"
      },
      "execution_count": 45,
      "outputs": [
        {
          "output_type": "stream",
          "name": "stdout",
          "text": [
            "12367.0 10.0000430082758076947067570749298172076868688724334421116399883464913554721012654093823656006296621\n"
          ]
        }
      ]
    },
    {
      "cell_type": "markdown",
      "source": [
        "$$1 + \\frac{1}{2} + \\frac{1}{3} + \\frac{1}{4} + \\frac{1}{5} = 2.08333?$$"
      ],
      "metadata": {
        "id": "axdPwNAtrsTm"
      }
    },
    {
      "cell_type": "markdown",
      "source": [
        "$$\\frac{1}{2} + \\frac{1}{3} + \\frac{1}{5} + \\frac{1}{7} + \\cdots = \\infty.$$"
      ],
      "metadata": {
        "id": "dIm8uRDSsmcF"
      }
    },
    {
      "cell_type": "markdown",
      "source": [
        "$$\\frac{1}{1^2} + \\frac{1}{2^2} + \\frac{1}{3^2} + \\frac{1}{4^2} + \\cdots = \\frac{\\pi^2}{6}.$$"
      ],
      "metadata": {
        "id": "_VQlB23pstvE"
      }
    },
    {
      "cell_type": "markdown",
      "source": [
        "If you want to be careful, you might want to try using mpmath!"
      ],
      "metadata": {
        "id": "YFFDmGmloJyt"
      }
    },
    {
      "cell_type": "code",
      "source": [
        "from mpmath import mp\n",
        "mp.dps = 100\n",
        "S = mp.mpf(1/7) # 1/7 with 100 digits precision?"
      ],
      "metadata": {
        "id": "516NWXwAoJcv"
      },
      "execution_count": 34,
      "outputs": []
    },
    {
      "cell_type": "markdown",
      "source": [
        "Can you write a while loop inside a function to display the Fibonacci numbers up to M?"
      ],
      "metadata": {
        "id": "-LKagmT8nqQp"
      }
    },
    {
      "cell_type": "code",
      "source": [
        "def Fibo(M):\n",
        "  a=0 # Previous Fibonacci number\n",
        "  b=1 # Current Fibonacci number\n",
        "  while b < M:\n",
        "    print(b)\n",
        "    a,b = b,a+b"
      ],
      "metadata": {
        "id": "s7CzLFj9nwlc"
      },
      "execution_count": 46,
      "outputs": []
    },
    {
      "cell_type": "code",
      "source": [
        "Fibo(100)"
      ],
      "metadata": {
        "colab": {
          "base_uri": "https://localhost:8080/"
        },
        "id": "xeem8MsB3u93",
        "outputId": "7869dacb-f995-40e8-c6de-cf4a6b97d6fb"
      },
      "execution_count": 47,
      "outputs": [
        {
          "output_type": "stream",
          "name": "stdout",
          "text": [
            "1\n",
            "1\n",
            "2\n",
            "3\n",
            "5\n",
            "8\n",
            "13\n",
            "21\n",
            "34\n",
            "55\n",
            "89\n"
          ]
        }
      ]
    },
    {
      "cell_type": "markdown",
      "source": [
        "A while loop for a physics simulation."
      ],
      "metadata": {
        "id": "qEB4vpkkisaG"
      }
    },
    {
      "cell_type": "code",
      "source": [
        "height = 100 # stand on top of a 100 meter tower.\n",
        "velocity = 10 # throw ball up at 10 m/s\n",
        "time = 0\n",
        "dt = 0.001 # Discrete-time model with 1/10 second intervals.\n",
        "while height > 0:\n",
        "  height = height + velocity*dt\n",
        "  velocity = velocity - 9.8*dt\n",
        "  time += dt\n",
        "print(f\"Splat at time {time}\")"
      ],
      "metadata": {
        "colab": {
          "base_uri": "https://localhost:8080/"
        },
        "id": "DHduA0gHiJTE",
        "outputId": "b66ff493-3279-4eda-c837-171282626012"
      },
      "execution_count": 54,
      "outputs": [
        {
          "output_type": "stream",
          "name": "stdout",
          "text": [
            "Splat at time 5.6530000000002225\n"
          ]
        }
      ]
    },
    {
      "cell_type": "markdown",
      "source": [
        "A while loop for a \"greedy\" algorithm."
      ],
      "metadata": {
        "id": "PFVgvdBDivRz"
      }
    },
    {
      "cell_type": "code",
      "source": [
        "def make_change(N):\n",
        "  '''\n",
        "  This is a function which turns N cents\n",
        "  into pennies, nickels, dimes, and quarters.\n",
        "  '''\n",
        "  quarters = 0 # start with no quarters.\n",
        "  dimes = 0\n",
        "  nickels = 0\n",
        "  pennies = 0\n",
        "  money = N\n",
        "  # Give quarters.\n",
        "  while money >= 25:\n",
        "    quarters = quarters + 1\n",
        "    money = money - 25\n",
        "  return quarters, dimes, nickels, pennies"
      ],
      "metadata": {
        "id": "zj7eWLJ37YV4"
      },
      "execution_count": 1,
      "outputs": []
    },
    {
      "cell_type": "markdown",
      "source": [
        "A fancy quick version using the Python dictionary type."
      ],
      "metadata": {
        "id": "OSblQDFglXpn"
      }
    },
    {
      "cell_type": "code",
      "source": [
        "def make_change(N, coin_values={'quarters':25, 'dimes':10, 'nickels':5, 'pennies':1}):\n",
        "  coins = coin_values.keys()\n",
        "  coin_nums = {coin : 0 for coin in coins}\n",
        "  money = N\n",
        "  for coin in coins:\n",
        "    while money >= coin_values[coin]:\n",
        "      coin_nums[coin] += 1\n",
        "      money = money - coin_values[coin]\n",
        "  print(coin_nums)"
      ],
      "metadata": {
        "id": "cMG_dAobkQsI"
      },
      "execution_count": 18,
      "outputs": []
    },
    {
      "cell_type": "code",
      "source": [
        "make_change(137)"
      ],
      "metadata": {
        "colab": {
          "base_uri": "https://localhost:8080/"
        },
        "id": "hIoB1WZmkc3_",
        "outputId": "7fcacf4d-d59b-4f84-c26c-4eb6c589a69e"
      },
      "execution_count": 20,
      "outputs": [
        {
          "output_type": "stream",
          "name": "stdout",
          "text": [
            "{'quarters': 5, 'dimes': 1, 'nickels': 0, 'pennies': 2}\n"
          ]
        }
      ]
    },
    {
      "cell_type": "markdown",
      "source": [
        "A while loop inside a function to print all Fibonacci numbers up to M."
      ],
      "metadata": {
        "id": "lbA2ZPCBjx5L"
      }
    },
    {
      "cell_type": "code",
      "source": [
        "def Fibo(M):\n",
        "  '''\n",
        "  Prints all of the Fibonacci numbers up to M.\n",
        "  '''\n",
        "  "
      ],
      "metadata": {
        "id": "txufS1oKhQqE"
      },
      "execution_count": 5,
      "outputs": []
    },
    {
      "cell_type": "code",
      "source": [
        "Fibo(100)"
      ],
      "metadata": {
        "colab": {
          "base_uri": "https://localhost:8080/"
        },
        "id": "19_9y7Kzi-oL",
        "outputId": "99af341b-714b-455f-ef5e-d891c4224238"
      },
      "execution_count": 6,
      "outputs": [
        {
          "output_type": "stream",
          "name": "stdout",
          "text": [
            "1\n",
            "2\n",
            "3\n",
            "5\n",
            "8\n",
            "13\n",
            "21\n",
            "34\n",
            "55\n",
            "89\n",
            "144\n"
          ]
        }
      ]
    },
    {
      "cell_type": "code",
      "source": [],
      "metadata": {
        "id": "Ry8oS4Avi_kz"
      },
      "execution_count": null,
      "outputs": []
    }
  ]
}