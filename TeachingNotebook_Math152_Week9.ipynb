{
  "nbformat": 4,
  "nbformat_minor": 0,
  "metadata": {
    "colab": {
      "provenance": [],
      "authorship_tag": "ABX9TyNsKDbkGk8qgk0kRO5KrOxx",
      "include_colab_link": true
    },
    "kernelspec": {
      "name": "python3",
      "display_name": "Python 3"
    },
    "language_info": {
      "name": "python"
    }
  },
  "cells": [
    {
      "cell_type": "markdown",
      "metadata": {
        "id": "view-in-github",
        "colab_type": "text"
      },
      "source": [
        "<a href=\"https://colab.research.google.com/github/MartyWeissman/P4M-Teaching-2023/blob/main/TeachingNotebook_Math152_Week9.ipynb\" target=\"_parent\"><img src=\"https://colab.research.google.com/assets/colab-badge.svg\" alt=\"Open In Colab\"/></a>"
      ]
    },
    {
      "cell_type": "markdown",
      "source": [
        "# Teaching notebook:  Math 152, Week 9, Thursday\n",
        "\n",
        "In this notebook, we will make a Mandelbrot set, and visualize random walks in the plane."
      ],
      "metadata": {
        "id": "DGtZr5VCfl10"
      }
    },
    {
      "cell_type": "markdown",
      "source": [
        "# The Mandelbrot set\n",
        "\n",
        "Let $c$ be a complex number.  Begin with $z = 0$.  Repeat the process $z \\mapsto z^2 + c$, over and over again.  The resulting sequence begins,\n",
        "$$0, c, c^2 + c, (c^2 + c)^2 + c, \\ldots.$$\n",
        "Does this sequence stay bounded?  Does it grow forever?  The Mandelbrot set is the set of complex numbers $c$ for which the sequence stays bounded."
      ],
      "metadata": {
        "id": "RKHQK5ZQftqE"
      }
    },
    {
      "cell_type": "code",
      "source": [
        "import numpy as np\n",
        "from PIL import Image\n",
        "from google.colab import files"
      ],
      "metadata": {
        "id": "zDZGAA1fgZLI"
      },
      "execution_count": 30,
      "outputs": []
    },
    {
      "cell_type": "markdown",
      "source": [
        "Python can handle complex numbers with ease.  But the complex number $i$ (with $i^2 = -1$) is called `1j`."
      ],
      "metadata": {
        "id": "Arho2xOrVnvK"
      }
    },
    {
      "cell_type": "code",
      "source": [
        "test_arr = np.array([0,1,2]) + np.array([1,2,3]) * 1j\n",
        "test_arr"
      ],
      "metadata": {
        "colab": {
          "base_uri": "https://localhost:8080/"
        },
        "id": "fh45fIwCgUa2",
        "outputId": "f3aa159d-5dff-4f1f-80ce-ac2d58383c9d"
      },
      "execution_count": 31,
      "outputs": [
        {
          "output_type": "execute_result",
          "data": {
            "text/plain": [
              "array([0.+1.j, 1.+2.j, 2.+3.j])"
            ]
          },
          "metadata": {},
          "execution_count": 31
        }
      ]
    },
    {
      "cell_type": "code",
      "source": [
        "test_arr.dtype"
      ],
      "metadata": {
        "colab": {
          "base_uri": "https://localhost:8080/"
        },
        "id": "7Aq5aEMngsIb",
        "outputId": "23e19156-64f3-4fa7-e0bd-96ca5fa1c82a"
      },
      "execution_count": 32,
      "outputs": [
        {
          "output_type": "execute_result",
          "data": {
            "text/plain": [
              "dtype('complex128')"
            ]
          },
          "metadata": {},
          "execution_count": 32
        }
      ]
    },
    {
      "cell_type": "markdown",
      "source": [
        "Python has a data type for complex numbers, basically 64 bits for the real part, and 64 bits for the imaginary part (coefficient of $i$).\n",
        "\n",
        "Now we make a big rectangular array of complex numbers, from $-2 - i$ up to $2+i$."
      ],
      "metadata": {
        "id": "Tqo0wQEXVyyp"
      }
    },
    {
      "cell_type": "code",
      "execution_count": 33,
      "metadata": {
        "id": "spwVaT31fk0g"
      },
      "outputs": [],
      "source": [
        "re_arr = np.linspace(-2,2,400)\n",
        "im_arr = np.linspace(-1,1,200)\n",
        "c_arr = np.add.outer(re_arr, im_arr*1j).T # Transpose the array so the final image looks good."
      ]
    },
    {
      "cell_type": "code",
      "source": [
        "np.abs(c_arr) # Take the absolute values.  np.abs(3 + 4j) would be 5.0"
      ],
      "metadata": {
        "colab": {
          "base_uri": "https://localhost:8080/"
        },
        "id": "vUb4iT5ziDlZ",
        "outputId": "bec549c6-cea7-498a-b76c-a07db39ef50a"
      },
      "execution_count": 34,
      "outputs": [
        {
          "output_type": "execute_result",
          "data": {
            "text/plain": [
              "array([[2.23606798, 2.2271058 , 2.21815272, ..., 2.21815272, 2.2271058 ,\n",
              "        2.23606798],\n",
              "       [2.23159147, 2.22261125, 2.21363999, ..., 2.21363999, 2.22261125,\n",
              "        2.23159147],\n",
              "       [2.22715133, 2.21815312, 2.20916376, ..., 2.20916376, 2.21815312,\n",
              "        2.22715133],\n",
              "       ...,\n",
              "       [2.22715133, 2.21815312, 2.20916376, ..., 2.20916376, 2.21815312,\n",
              "        2.22715133],\n",
              "       [2.23159147, 2.22261125, 2.21363999, ..., 2.21363999, 2.22261125,\n",
              "        2.23159147],\n",
              "       [2.23606798, 2.2271058 , 2.21815272, ..., 2.21815272, 2.2271058 ,\n",
              "        2.23606798]])"
            ]
          },
          "metadata": {},
          "execution_count": 34
        }
      ]
    },
    {
      "cell_type": "code",
      "source": [
        "def make_mandel(num_iter = 100):\n",
        "  '''\n",
        "  Makes an array of True/False, depending on boundedness of process.\n",
        "  '''\n",
        "  arr = np.zeros(c_arr.shape)\n",
        "  b_arr = np.full(c_arr.shape, 0) # 0 is bounded.\n",
        "  for t in range(num_iter):\n",
        "    arr = arr**2 + c_arr\n",
        "    arr_size = np.abs(arr)\n",
        "    is_bded = (arr_size < 2) # If it hits 2, is escapes!\n",
        "    b_arr = b_arr + (is_bded) # Tracking escape time!\n",
        "    arr = (arr * (is_bded)) + (2*(1-is_bded)) # A trick to implementing an if-switch with vectorized computations.\n",
        "  return b_arr, is_bded"
      ],
      "metadata": {
        "id": "IVRjSMI2g7Or"
      },
      "execution_count": 35,
      "outputs": []
    },
    {
      "cell_type": "code",
      "source": [
        "esc_time, mbrot = make_mandel()"
      ],
      "metadata": {
        "id": "nO9dmg_jhY1L"
      },
      "execution_count": 36,
      "outputs": []
    },
    {
      "cell_type": "code",
      "source": [
        "pixels = np.zeros((c_arr.shape[0], c_arr.shape[1], 3)) # RGB channels\n",
        "pixels[:,:,0] = mbrot*255\n",
        "pixels[:,:,1] = mbrot*255\n",
        "pixels[:,:,2] = mbrot*255\n",
        "pixels[:,:,0] += (100*esc_time % 255)\n",
        "pixels[:,:,1] += (37*esc_time % 255)\n",
        "pixels = np.clip(pixels,0,255)\n"
      ],
      "metadata": {
        "id": "_9cAqXankC6M"
      },
      "execution_count": 37,
      "outputs": []
    },
    {
      "cell_type": "code",
      "source": [
        "img = Image.fromarray(pixels.astype(np.uint8))\n",
        "display(img)"
      ],
      "metadata": {
        "colab": {
          "base_uri": "https://localhost:8080/",
          "height": 217
        },
        "id": "qAMKsqwohbfk",
        "outputId": "691416d9-fbd5-4ddf-d959-24f11873bd2e"
      },
      "execution_count": 38,
      "outputs": [
        {
          "output_type": "display_data",
          "data": {
            "text/plain": [
              "<PIL.Image.Image image mode=RGB size=400x200 at 0x7EFFB6183C10>"
            ],
            "image/png": "[encoded data removed]"
          },
          "metadata": {}
        }
      ]
    },
    {
      "cell_type": "markdown",
      "source": [
        "# Random walks in the plane\n",
        "\n",
        "Consider a bunch of bots, walking in a box."
      ],
      "metadata": {
        "id": "3UXPOR6zm3-G"
      }
    },
    {
      "cell_type": "markdown",
      "source": [
        "First we put 100,000 bots at the origin."
      ],
      "metadata": {
        "id": "hRBK_DpqVAX9"
      }
    },
    {
      "cell_type": "code",
      "source": [
        "num_bots = 100000\n",
        "bots = np.zeros((num_bots,2)) # 10000 bots, two coordinates."
      ],
      "metadata": {
        "id": "nt652MC2iXuN"
      },
      "execution_count": 39,
      "outputs": []
    },
    {
      "cell_type": "markdown",
      "source": [
        "Bot 0 -- where are you?"
      ],
      "metadata": {
        "id": "yR0P-4WcVK-n"
      }
    },
    {
      "cell_type": "code",
      "source": [
        "bots[0]"
      ],
      "metadata": {
        "colab": {
          "base_uri": "https://localhost:8080/"
        },
        "id": "Wia8NERFVKOR",
        "outputId": "d05095f9-9aa0-4233-f3b2-c2f7b099f2e2"
      },
      "execution_count": 40,
      "outputs": [
        {
          "output_type": "execute_result",
          "data": {
            "text/plain": [
              "array([0., 0.])"
            ]
          },
          "metadata": {},
          "execution_count": 40
        }
      ]
    },
    {
      "cell_type": "markdown",
      "source": [
        "Now bots -- go for a 1000 step walk!"
      ],
      "metadata": {
        "id": "q7wj0WItVEID"
      }
    },
    {
      "cell_type": "code",
      "source": [
        "for t in range(1000):\n",
        "  step = np.random.uniform(-1,1,(num_bots,2))\n",
        "  bots = bots + step"
      ],
      "metadata": {
        "id": "ryMwwsHVnONQ"
      },
      "execution_count": 41,
      "outputs": []
    },
    {
      "cell_type": "markdown",
      "source": [
        "Bot 0... where are you now?"
      ],
      "metadata": {
        "id": "99EqJcsHVGwy"
      }
    },
    {
      "cell_type": "code",
      "source": [
        "bots[0]"
      ],
      "metadata": {
        "colab": {
          "base_uri": "https://localhost:8080/"
        },
        "id": "5jfygE8NngXo",
        "outputId": "b06630bb-d844-4272-f11d-043845712db9"
      },
      "execution_count": 42,
      "outputs": [
        {
          "output_type": "execute_result",
          "data": {
            "text/plain": [
              "array([10.90437515,  2.3427694 ])"
            ]
          },
          "metadata": {},
          "execution_count": 42
        }
      ]
    },
    {
      "cell_type": "code",
      "source": [
        "counts = np.histogram2d(bots[:,0], bots[:,1], bins=300)[0] # Count the number of bots in a 300x300 grid.\n",
        "counts"
      ],
      "metadata": {
        "colab": {
          "base_uri": "https://localhost:8080/"
        },
        "id": "DOtpyrLlomoh",
        "outputId": "559dcdbe-a2d0-43b0-8f52-016988cff46a"
      },
      "execution_count": 43,
      "outputs": [
        {
          "output_type": "execute_result",
          "data": {
            "text/plain": [
              "array([[0., 0., 0., ..., 0., 0., 0.],\n",
              "       [0., 0., 0., ..., 0., 0., 0.],\n",
              "       [0., 0., 0., ..., 0., 0., 0.],\n",
              "       ...,\n",
              "       [0., 0., 0., ..., 0., 0., 0.],\n",
              "       [0., 0., 0., ..., 0., 0., 0.],\n",
              "       [0., 0., 0., ..., 0., 0., 0.]])"
            ]
          },
          "metadata": {},
          "execution_count": 43
        }
      ]
    },
    {
      "cell_type": "code",
      "source": [
        "cmax = np.max(counts)\n",
        "cmax"
      ],
      "metadata": {
        "colab": {
          "base_uri": "https://localhost:8080/"
        },
        "id": "kj523_zZpU32",
        "outputId": "4b4df569-1f50-463c-d9cb-b7ec6de78d45"
      },
      "execution_count": 44,
      "outputs": [
        {
          "output_type": "execute_result",
          "data": {
            "text/plain": [
              "23.0"
            ]
          },
          "metadata": {},
          "execution_count": 44
        }
      ]
    },
    {
      "cell_type": "code",
      "source": [
        "pixels = counts*255 / cmax # scale so maximum = white, minimum = black.\n",
        "pixels = pixels.astype(np.uint8) # PIL only likes 8-bit unsigned integers.\n",
        "img = Image.fromarray(pixels) # Make the image.\n",
        "display(img) # Display the image.\n"
      ],
      "metadata": {
        "colab": {
          "base_uri": "https://localhost:8080/",
          "height": 317
        },
        "id": "g-BrsGzDoI8p",
        "outputId": "1f7d5da8-0963-40ad-bfc3-f5b179ad5071"
      },
      "execution_count": 45,
      "outputs": [
        {
          "output_type": "display_data",
          "data": {
            "text/plain": [
              "<PIL.Image.Image image mode=L size=300x300 at 0x7EFFB6183D30>"
            ],
            "image/png": "[encoded data removed]"
          },
          "metadata": {}
        }
      ]
    },
    {
      "cell_type": "code",
      "source": [
        "pixels.max()"
      ],
      "metadata": {
        "colab": {
          "base_uri": "https://localhost:8080/"
        },
        "id": "JdSr_fPQoJzy",
        "outputId": "c2e4b7e0-073f-46f5-aac5-847536a07e4b"
      },
      "execution_count": 46,
      "outputs": [
        {
          "output_type": "execute_result",
          "data": {
            "text/plain": [
              "255"
            ]
          },
          "metadata": {},
          "execution_count": 46
        }
      ]
    },
    {
      "cell_type": "code",
      "source": [],
      "metadata": {
        "id": "FeKh81Nzo5sO"
      },
      "execution_count": 46,
      "outputs": []
    }
  ]
}